{
 "cells": [
  {
   "cell_type": "code",
   "execution_count": 1,
   "id": "30769a0f-0298-4554-8b4e-3cab53d1eecb",
   "metadata": {},
   "outputs": [
    {
     "ename": "SyntaxError",
     "evalue": "invalid syntax (1345152905.py, line 1)",
     "output_type": "error",
     "traceback": [
      "\u001b[1;36m  Cell \u001b[1;32mIn[1], line 1\u001b[1;36m\u001b[0m\n\u001b[1;33m    export MLFLOW_TRACKING_URI=http://localhost:5000\u001b[0m\n\u001b[1;37m           ^\u001b[0m\n\u001b[1;31mSyntaxError\u001b[0m\u001b[1;31m:\u001b[0m invalid syntax\n"
     ]
    }
   ],
   "source": [
    "export MLFLOW_TRACKING_URI=http://localhost:5000"
   ]
  },
  {
   "cell_type": "code",
   "execution_count": 1,
   "id": "679a5ea8-548d-4385-bd3a-21e4ea0a7371",
   "metadata": {},
   "outputs": [
    {
     "name": "stdout",
     "output_type": "stream",
     "text": [
      "WARNING:tensorflow:From C:\\Users\\qbada\\AppData\\Local\\Programs\\Python\\Python311\\Lib\\site-packages\\keras\\src\\losses.py:2976: The name tf.losses.sparse_softmax_cross_entropy is deprecated. Please use tf.compat.v1.losses.sparse_softmax_cross_entropy instead.\n",
      "\n"
     ]
    }
   ],
   "source": [
    "import numpy as np\n",
    "import pandas as pd\n",
    "import zipfile\n",
    "import os\n",
    "from sklearn.preprocessing import StandardScaler\n",
    "from sklearn.model_selection import train_test_split\n",
    "import tensorflow as tf\n",
    "from tensorflow import keras\n",
    "from tensorflow.keras.models import Sequential\n",
    "from tensorflow.keras.layers import Dense\n",
    "import matplotlib.pyplot as plt\n",
    "from sklearn.metrics import mean_squared_error, r2_score"
   ]
  },
  {
   "cell_type": "code",
   "execution_count": 2,
   "id": "9a28be23-5d63-41f5-b939-4859855cbf72",
   "metadata": {},
   "outputs": [],
   "source": [
    "import mlflow\n",
    "import mlflow.keras\n",
    "from mlflow.models import infer_signature"
   ]
  },
  {
   "cell_type": "code",
   "execution_count": 6,
   "id": "31169610-3b3b-4325-bd0d-726f5f4c38f3",
   "metadata": {},
   "outputs": [],
   "source": [
    "mlflow.set_tracking_uri(uri=\"http://127.0.0.1:8080\")"
   ]
  },
  {
   "cell_type": "code",
   "execution_count": 4,
   "id": "3dc66b2d-210e-4f7f-a9d9-bf0d0f035148",
   "metadata": {},
   "outputs": [
    {
     "name": "stdout",
     "output_type": "stream",
     "text": [
      "Current Working Directory: D:\\SirWaqas\n"
     ]
    }
   ],
   "source": [
    "# Get the current working directory\n",
    "current_directory = os.getcwd()\n",
    "\n",
    "# Print the current directory\n",
    "print(\"Current Working Directory:\", current_directory)"
   ]
  },
  {
   "cell_type": "code",
   "execution_count": 5,
   "id": "8786b4d8-1b38-4883-8a0a-e46597056f0f",
   "metadata": {},
   "outputs": [
    {
     "name": "stdout",
     "output_type": "stream",
     "text": [
      "   X  Y month  day  FFMC   DMC     DC  ISI  temp  RH  wind  rain  area\n",
      "0  7  5   mar  fri  86.2  26.2   94.3  5.1   8.2  51   6.7   0.0   0.0\n",
      "1  7  4   oct  tue  90.6  35.4  669.1  6.7  18.0  33   0.9   0.0   0.0\n",
      "2  7  4   oct  sat  90.6  43.7  686.9  6.7  14.6  33   1.3   0.0   0.0\n",
      "3  8  6   mar  fri  91.7  33.3   77.5  9.0   8.3  97   4.0   0.2   0.0\n",
      "4  8  6   mar  sun  89.3  51.3  102.2  9.6  11.4  99   1.8   0.0   0.0\n"
     ]
    }
   ],
   "source": [
    "# Full path to the ZIP file\n",
    "zip_file_path = r'D:\\SirWaqas\\forest+fires.zip'\n",
    "\n",
    "# Open the ZIP file and read the CSV file directly\n",
    "with zipfile.ZipFile(zip_file_path, 'r') as zip_ref:\n",
    "    with zip_ref.open('forestfires.csv') as csv_file:\n",
    "        df = pd.read_csv(csv_file)\n",
    "\n",
    "# Display the first few rows of the DataFrame\n",
    "print(df.head())"
   ]
  },
  {
   "cell_type": "code",
   "execution_count": 6,
   "id": "da8d4ecc-a2e5-4b15-aa21-fe95fc95a815",
   "metadata": {},
   "outputs": [
    {
     "name": "stdout",
     "output_type": "stream",
     "text": [
      "<class 'pandas.core.frame.DataFrame'>\n",
      "RangeIndex: 517 entries, 0 to 516\n",
      "Data columns (total 13 columns):\n",
      " #   Column  Non-Null Count  Dtype  \n",
      "---  ------  --------------  -----  \n",
      " 0   X       517 non-null    int64  \n",
      " 1   Y       517 non-null    int64  \n",
      " 2   month   517 non-null    object \n",
      " 3   day     517 non-null    object \n",
      " 4   FFMC    517 non-null    float64\n",
      " 5   DMC     517 non-null    float64\n",
      " 6   DC      517 non-null    float64\n",
      " 7   ISI     517 non-null    float64\n",
      " 8   temp    517 non-null    float64\n",
      " 9   RH      517 non-null    int64  \n",
      " 10  wind    517 non-null    float64\n",
      " 11  rain    517 non-null    float64\n",
      " 12  area    517 non-null    float64\n",
      "dtypes: float64(8), int64(3), object(2)\n",
      "memory usage: 52.6+ KB\n"
     ]
    }
   ],
   "source": [
    "df.info()"
   ]
  },
  {
   "cell_type": "code",
   "execution_count": 7,
   "id": "791b2eab-4d18-44a9-bec7-588ee0c961af",
   "metadata": {},
   "outputs": [
    {
     "data": {
      "text/plain": [
       "(517, 13)"
      ]
     },
     "execution_count": 7,
     "metadata": {},
     "output_type": "execute_result"
    }
   ],
   "source": [
    "df.shape"
   ]
  },
  {
   "cell_type": "code",
   "execution_count": 8,
   "id": "ef6bdbfe-9fd7-40ab-a83e-dc5f98c74bde",
   "metadata": {},
   "outputs": [
    {
     "data": {
      "text/plain": [
       "Index(['X', 'Y', 'month', 'day', 'FFMC', 'DMC', 'DC', 'ISI', 'temp', 'RH',\n",
       "       'wind', 'rain', 'area'],\n",
       "      dtype='object')"
      ]
     },
     "execution_count": 8,
     "metadata": {},
     "output_type": "execute_result"
    }
   ],
   "source": [
    "df.columns"
   ]
  },
  {
   "cell_type": "code",
   "execution_count": 9,
   "id": "875402a1-3919-4577-9530-1edfc4b1e7ae",
   "metadata": {},
   "outputs": [
    {
     "data": {
      "text/plain": [
       "X        0\n",
       "Y        0\n",
       "month    0\n",
       "day      0\n",
       "FFMC     0\n",
       "DMC      0\n",
       "DC       0\n",
       "ISI      0\n",
       "temp     0\n",
       "RH       0\n",
       "wind     0\n",
       "rain     0\n",
       "area     0\n",
       "dtype: int64"
      ]
     },
     "execution_count": 9,
     "metadata": {},
     "output_type": "execute_result"
    }
   ],
   "source": [
    "# Checking for missing values in the dataset\n",
    "missing_values = df.isnull().sum()\n",
    "\n",
    "# Displaying the count of missing values for each column\n",
    "missing_values"
   ]
  },
  {
   "cell_type": "code",
   "execution_count": 6,
   "id": "456ec551-3e3f-485e-af41-6fcd5ae0706c",
   "metadata": {},
   "outputs": [],
   "source": [
    "# Encode Data\n",
    "df.month.replace(('jan','feb','mar','apr','may','jun','jul','aug','sep','oct','nov','dec'),(1,2,3,4,5,6,7,8,9,10,11,12), inplace=True)\n",
    "df.day.replace(('mon','tue','wed','thu','fri','sat','sun'),(1,2,3,4,5,6,7), inplace=True)"
   ]
  },
  {
   "cell_type": "code",
   "execution_count": 9,
   "id": "82da6ff4-02b7-49f8-ac7c-5713c4bdc342",
   "metadata": {},
   "outputs": [
    {
     "data": {
      "text/html": [
       "<div>\n",
       "<style scoped>\n",
       "    .dataframe tbody tr th:only-of-type {\n",
       "        vertical-align: middle;\n",
       "    }\n",
       "\n",
       "    .dataframe tbody tr th {\n",
       "        vertical-align: top;\n",
       "    }\n",
       "\n",
       "    .dataframe thead th {\n",
       "        text-align: right;\n",
       "    }\n",
       "</style>\n",
       "<table border=\"1\" class=\"dataframe\">\n",
       "  <thead>\n",
       "    <tr style=\"text-align: right;\">\n",
       "      <th></th>\n",
       "      <th>X</th>\n",
       "      <th>Y</th>\n",
       "      <th>month</th>\n",
       "      <th>day</th>\n",
       "      <th>FFMC</th>\n",
       "      <th>DMC</th>\n",
       "      <th>DC</th>\n",
       "      <th>ISI</th>\n",
       "      <th>temp</th>\n",
       "      <th>RH</th>\n",
       "      <th>wind</th>\n",
       "      <th>rain</th>\n",
       "      <th>area</th>\n",
       "    </tr>\n",
       "  </thead>\n",
       "  <tbody>\n",
       "    <tr>\n",
       "      <th>0</th>\n",
       "      <td>7</td>\n",
       "      <td>5</td>\n",
       "      <td>3</td>\n",
       "      <td>5</td>\n",
       "      <td>86.2</td>\n",
       "      <td>26.2</td>\n",
       "      <td>94.3</td>\n",
       "      <td>5.1</td>\n",
       "      <td>8.2</td>\n",
       "      <td>51</td>\n",
       "      <td>6.7</td>\n",
       "      <td>0.0</td>\n",
       "      <td>0.0</td>\n",
       "    </tr>\n",
       "    <tr>\n",
       "      <th>1</th>\n",
       "      <td>7</td>\n",
       "      <td>4</td>\n",
       "      <td>10</td>\n",
       "      <td>2</td>\n",
       "      <td>90.6</td>\n",
       "      <td>35.4</td>\n",
       "      <td>669.1</td>\n",
       "      <td>6.7</td>\n",
       "      <td>18.0</td>\n",
       "      <td>33</td>\n",
       "      <td>0.9</td>\n",
       "      <td>0.0</td>\n",
       "      <td>0.0</td>\n",
       "    </tr>\n",
       "    <tr>\n",
       "      <th>2</th>\n",
       "      <td>7</td>\n",
       "      <td>4</td>\n",
       "      <td>10</td>\n",
       "      <td>6</td>\n",
       "      <td>90.6</td>\n",
       "      <td>43.7</td>\n",
       "      <td>686.9</td>\n",
       "      <td>6.7</td>\n",
       "      <td>14.6</td>\n",
       "      <td>33</td>\n",
       "      <td>1.3</td>\n",
       "      <td>0.0</td>\n",
       "      <td>0.0</td>\n",
       "    </tr>\n",
       "    <tr>\n",
       "      <th>3</th>\n",
       "      <td>8</td>\n",
       "      <td>6</td>\n",
       "      <td>3</td>\n",
       "      <td>5</td>\n",
       "      <td>91.7</td>\n",
       "      <td>33.3</td>\n",
       "      <td>77.5</td>\n",
       "      <td>9.0</td>\n",
       "      <td>8.3</td>\n",
       "      <td>97</td>\n",
       "      <td>4.0</td>\n",
       "      <td>0.2</td>\n",
       "      <td>0.0</td>\n",
       "    </tr>\n",
       "    <tr>\n",
       "      <th>4</th>\n",
       "      <td>8</td>\n",
       "      <td>6</td>\n",
       "      <td>3</td>\n",
       "      <td>7</td>\n",
       "      <td>89.3</td>\n",
       "      <td>51.3</td>\n",
       "      <td>102.2</td>\n",
       "      <td>9.6</td>\n",
       "      <td>11.4</td>\n",
       "      <td>99</td>\n",
       "      <td>1.8</td>\n",
       "      <td>0.0</td>\n",
       "      <td>0.0</td>\n",
       "    </tr>\n",
       "  </tbody>\n",
       "</table>\n",
       "</div>"
      ],
      "text/plain": [
       "   X  Y  month  day  FFMC   DMC     DC  ISI  temp  RH  wind  rain  area\n",
       "0  7  5      3    5  86.2  26.2   94.3  5.1   8.2  51   6.7   0.0   0.0\n",
       "1  7  4     10    2  90.6  35.4  669.1  6.7  18.0  33   0.9   0.0   0.0\n",
       "2  7  4     10    6  90.6  43.7  686.9  6.7  14.6  33   1.3   0.0   0.0\n",
       "3  8  6      3    5  91.7  33.3   77.5  9.0   8.3  97   4.0   0.2   0.0\n",
       "4  8  6      3    7  89.3  51.3  102.2  9.6  11.4  99   1.8   0.0   0.0"
      ]
     },
     "execution_count": 9,
     "metadata": {},
     "output_type": "execute_result"
    }
   ],
   "source": [
    "df.head()"
   ]
  },
  {
   "cell_type": "code",
   "execution_count": 10,
   "id": "eb572b16-fb33-428f-9826-93d072355282",
   "metadata": {},
   "outputs": [
    {
     "name": "stdout",
     "output_type": "stream",
     "text": [
      "Statistical Description:                 X           Y       month         day        FFMC         DMC  \\\n",
      "count  517.000000  517.000000  517.000000  517.000000  517.000000  517.000000   \n",
      "mean     4.669246    4.299807    7.475822    4.259188   90.644681  110.872340   \n",
      "std      2.313778    1.229900    2.275990    2.072929    5.520111   64.046482   \n",
      "min      1.000000    2.000000    1.000000    1.000000   18.700000    1.100000   \n",
      "25%      3.000000    4.000000    7.000000    2.000000   90.200000   68.600000   \n",
      "50%      4.000000    4.000000    8.000000    5.000000   91.600000  108.300000   \n",
      "75%      7.000000    5.000000    9.000000    6.000000   92.900000  142.400000   \n",
      "max      9.000000    9.000000   12.000000    7.000000   96.200000  291.300000   \n",
      "\n",
      "               DC         ISI        temp          RH        wind        rain  \\\n",
      "count  517.000000  517.000000  517.000000  517.000000  517.000000  517.000000   \n",
      "mean   547.940039    9.021663   18.889168   44.288201    4.017602    0.021663   \n",
      "std    248.066192    4.559477    5.806625   16.317469    1.791653    0.295959   \n",
      "min      7.900000    0.000000    2.200000   15.000000    0.400000    0.000000   \n",
      "25%    437.700000    6.500000   15.500000   33.000000    2.700000    0.000000   \n",
      "50%    664.200000    8.400000   19.300000   42.000000    4.000000    0.000000   \n",
      "75%    713.900000   10.800000   22.800000   53.000000    4.900000    0.000000   \n",
      "max    860.600000   56.100000   33.300000  100.000000    9.400000    6.400000   \n",
      "\n",
      "              area  \n",
      "count   517.000000  \n",
      "mean     12.847292  \n",
      "std      63.655818  \n",
      "min       0.000000  \n",
      "25%       0.000000  \n",
      "50%       0.520000  \n",
      "75%       6.570000  \n",
      "max    1090.840000  \n"
     ]
    }
   ],
   "source": [
    "print(\"Statistical Description:\", df.describe())"
   ]
  },
  {
   "cell_type": "code",
   "execution_count": 13,
   "id": "72a03b10-76f5-4a1e-be26-93ce430b550f",
   "metadata": {},
   "outputs": [
    {
     "name": "stdout",
     "output_type": "stream",
     "text": [
      "Data Types: X          int64\n",
      "Y          int64\n",
      "month      int64\n",
      "day        int64\n",
      "FFMC     float64\n",
      "DMC      float64\n",
      "DC       float64\n",
      "ISI      float64\n",
      "temp     float64\n",
      "RH         int64\n",
      "wind     float64\n",
      "rain     float64\n",
      "area     float64\n",
      "dtype: object\n"
     ]
    }
   ],
   "source": [
    "print(\"Data Types:\", df.dtypes)"
   ]
  },
  {
   "cell_type": "code",
   "execution_count": 14,
   "id": "1cf34af8-f770-4711-aa6d-006f4ec85023",
   "metadata": {},
   "outputs": [
    {
     "data": {
      "text/plain": [
       "array([[<Axes: title={'center': 'X'}>, <Axes: title={'center': 'Y'}>,\n",
       "        <Axes: title={'center': 'month'}>,\n",
       "        <Axes: title={'center': 'day'}>],\n",
       "       [<Axes: title={'center': 'FFMC'}>,\n",
       "        <Axes: title={'center': 'DMC'}>, <Axes: title={'center': 'DC'}>,\n",
       "        <Axes: title={'center': 'ISI'}>],\n",
       "       [<Axes: title={'center': 'temp'}>, <Axes: title={'center': 'RH'}>,\n",
       "        <Axes: title={'center': 'wind'}>,\n",
       "        <Axes: title={'center': 'rain'}>],\n",
       "       [<Axes: title={'center': 'area'}>, <Axes: >, <Axes: >, <Axes: >]],\n",
       "      dtype=object)"
      ]
     },
     "execution_count": 14,
     "metadata": {},
     "output_type": "execute_result"
    },
    {
     "data": {
      "image/png": "[encoded data removed]",
      "text/plain": [
       "<Figure size 640x480 with 16 Axes>"
      ]
     },
     "metadata": {},
     "output_type": "display_data"
    }
   ],
   "source": [
    "df.hist()"
   ]
  },
  {
   "cell_type": "code",
   "execution_count": 7,
   "id": "a3baa12c-a846-4cf9-a2d0-13bc0be395d5",
   "metadata": {},
   "outputs": [
    {
     "data": {
      "text/html": [
       "<div>\n",
       "<style scoped>\n",
       "    .dataframe tbody tr th:only-of-type {\n",
       "        vertical-align: middle;\n",
       "    }\n",
       "\n",
       "    .dataframe tbody tr th {\n",
       "        vertical-align: top;\n",
       "    }\n",
       "\n",
       "    .dataframe thead th {\n",
       "        text-align: right;\n",
       "    }\n",
       "</style>\n",
       "<table border=\"1\" class=\"dataframe\">\n",
       "  <thead>\n",
       "    <tr style=\"text-align: right;\">\n",
       "      <th></th>\n",
       "      <th>X</th>\n",
       "      <th>Y</th>\n",
       "      <th>month</th>\n",
       "      <th>day</th>\n",
       "      <th>FFMC</th>\n",
       "      <th>DMC</th>\n",
       "      <th>DC</th>\n",
       "      <th>ISI</th>\n",
       "      <th>temp</th>\n",
       "      <th>RH</th>\n",
       "      <th>wind</th>\n",
       "      <th>rain</th>\n",
       "      <th>area</th>\n",
       "    </tr>\n",
       "  </thead>\n",
       "  <tbody>\n",
       "    <tr>\n",
       "      <th>0</th>\n",
       "      <td>1.008313</td>\n",
       "      <td>0.569860</td>\n",
       "      <td>-1.968443</td>\n",
       "      <td>0.357721</td>\n",
       "      <td>-0.805959</td>\n",
       "      <td>-1.323326</td>\n",
       "      <td>-1.830477</td>\n",
       "      <td>-0.860946</td>\n",
       "      <td>-1.842640</td>\n",
       "      <td>0.411724</td>\n",
       "      <td>1.498614</td>\n",
       "      <td>-0.073268</td>\n",
       "      <td>-0.202020</td>\n",
       "    </tr>\n",
       "    <tr>\n",
       "      <th>1</th>\n",
       "      <td>1.008313</td>\n",
       "      <td>-0.244001</td>\n",
       "      <td>1.110120</td>\n",
       "      <td>-1.090909</td>\n",
       "      <td>-0.008102</td>\n",
       "      <td>-1.179541</td>\n",
       "      <td>0.488891</td>\n",
       "      <td>-0.509688</td>\n",
       "      <td>-0.153278</td>\n",
       "      <td>-0.692456</td>\n",
       "      <td>-1.741756</td>\n",
       "      <td>-0.073268</td>\n",
       "      <td>-0.202020</td>\n",
       "    </tr>\n",
       "    <tr>\n",
       "      <th>2</th>\n",
       "      <td>1.008313</td>\n",
       "      <td>-0.244001</td>\n",
       "      <td>1.110120</td>\n",
       "      <td>0.840597</td>\n",
       "      <td>-0.008102</td>\n",
       "      <td>-1.049822</td>\n",
       "      <td>0.560715</td>\n",
       "      <td>-0.509688</td>\n",
       "      <td>-0.739383</td>\n",
       "      <td>-0.692456</td>\n",
       "      <td>-1.518282</td>\n",
       "      <td>-0.073268</td>\n",
       "      <td>-0.202020</td>\n",
       "    </tr>\n",
       "    <tr>\n",
       "      <th>3</th>\n",
       "      <td>1.440925</td>\n",
       "      <td>1.383722</td>\n",
       "      <td>-1.968443</td>\n",
       "      <td>0.357721</td>\n",
       "      <td>0.191362</td>\n",
       "      <td>-1.212361</td>\n",
       "      <td>-1.898266</td>\n",
       "      <td>-0.004756</td>\n",
       "      <td>-1.825402</td>\n",
       "      <td>3.233519</td>\n",
       "      <td>-0.009834</td>\n",
       "      <td>0.603155</td>\n",
       "      <td>-0.202020</td>\n",
       "    </tr>\n",
       "    <tr>\n",
       "      <th>4</th>\n",
       "      <td>1.440925</td>\n",
       "      <td>1.383722</td>\n",
       "      <td>-1.968443</td>\n",
       "      <td>1.323474</td>\n",
       "      <td>-0.243833</td>\n",
       "      <td>-0.931043</td>\n",
       "      <td>-1.798600</td>\n",
       "      <td>0.126966</td>\n",
       "      <td>-1.291012</td>\n",
       "      <td>3.356206</td>\n",
       "      <td>-1.238940</td>\n",
       "      <td>-0.073268</td>\n",
       "      <td>-0.202020</td>\n",
       "    </tr>\n",
       "    <tr>\n",
       "      <th>...</th>\n",
       "      <td>...</td>\n",
       "      <td>...</td>\n",
       "      <td>...</td>\n",
       "      <td>...</td>\n",
       "      <td>...</td>\n",
       "      <td>...</td>\n",
       "      <td>...</td>\n",
       "      <td>...</td>\n",
       "      <td>...</td>\n",
       "      <td>...</td>\n",
       "      <td>...</td>\n",
       "      <td>...</td>\n",
       "      <td>...</td>\n",
       "    </tr>\n",
       "    <tr>\n",
       "      <th>195</th>\n",
       "      <td>-1.154748</td>\n",
       "      <td>0.569860</td>\n",
       "      <td>0.230531</td>\n",
       "      <td>0.357721</td>\n",
       "      <td>0.590291</td>\n",
       "      <td>0.388026</td>\n",
       "      <td>0.156400</td>\n",
       "      <td>1.334413</td>\n",
       "      <td>0.794833</td>\n",
       "      <td>-0.508426</td>\n",
       "      <td>0.772325</td>\n",
       "      <td>-0.073268</td>\n",
       "      <td>-0.044458</td>\n",
       "    </tr>\n",
       "    <tr>\n",
       "      <th>196</th>\n",
       "      <td>0.575701</td>\n",
       "      <td>0.569860</td>\n",
       "      <td>-1.528648</td>\n",
       "      <td>-0.125156</td>\n",
       "      <td>-1.658216</td>\n",
       "      <td>-1.590578</td>\n",
       "      <td>-1.988249</td>\n",
       "      <td>-1.387832</td>\n",
       "      <td>-2.256361</td>\n",
       "      <td>0.595754</td>\n",
       "      <td>0.995798</td>\n",
       "      <td>-0.073268</td>\n",
       "      <td>-0.030149</td>\n",
       "    </tr>\n",
       "    <tr>\n",
       "      <th>197</th>\n",
       "      <td>-0.289524</td>\n",
       "      <td>0.569860</td>\n",
       "      <td>0.670325</td>\n",
       "      <td>-0.125156</td>\n",
       "      <td>0.408960</td>\n",
       "      <td>0.408344</td>\n",
       "      <td>0.639400</td>\n",
       "      <td>0.039151</td>\n",
       "      <td>0.450065</td>\n",
       "      <td>-1.796637</td>\n",
       "      <td>-1.741756</td>\n",
       "      <td>-0.073268</td>\n",
       "      <td>-0.028105</td>\n",
       "    </tr>\n",
       "    <tr>\n",
       "      <th>198</th>\n",
       "      <td>-0.722136</td>\n",
       "      <td>-0.244001</td>\n",
       "      <td>0.670325</td>\n",
       "      <td>-1.090909</td>\n",
       "      <td>0.064430</td>\n",
       "      <td>0.291128</td>\n",
       "      <td>0.583715</td>\n",
       "      <td>-0.443828</td>\n",
       "      <td>-0.860052</td>\n",
       "      <td>0.902471</td>\n",
       "      <td>1.275141</td>\n",
       "      <td>-0.073268</td>\n",
       "      <td>-0.025274</td>\n",
       "    </tr>\n",
       "    <tr>\n",
       "      <th>199</th>\n",
       "      <td>-1.154748</td>\n",
       "      <td>-0.244001</td>\n",
       "      <td>0.670325</td>\n",
       "      <td>-1.573785</td>\n",
       "      <td>-4.922179</td>\n",
       "      <td>-0.626282</td>\n",
       "      <td>0.473558</td>\n",
       "      <td>-1.804950</td>\n",
       "      <td>0.639688</td>\n",
       "      <td>-0.385739</td>\n",
       "      <td>-0.233308</td>\n",
       "      <td>-0.073268</td>\n",
       "      <td>-0.024016</td>\n",
       "    </tr>\n",
       "  </tbody>\n",
       "</table>\n",
       "<p>200 rows × 13 columns</p>\n",
       "</div>"
      ],
      "text/plain": [
       "            X         Y     month       day      FFMC       DMC        DC  \\\n",
       "0    1.008313  0.569860 -1.968443  0.357721 -0.805959 -1.323326 -1.830477   \n",
       "1    1.008313 -0.244001  1.110120 -1.090909 -0.008102 -1.179541  0.488891   \n",
       "2    1.008313 -0.244001  1.110120  0.840597 -0.008102 -1.049822  0.560715   \n",
       "3    1.440925  1.383722 -1.968443  0.357721  0.191362 -1.212361 -1.898266   \n",
       "4    1.440925  1.383722 -1.968443  1.323474 -0.243833 -0.931043 -1.798600   \n",
       "..        ...       ...       ...       ...       ...       ...       ...   \n",
       "195 -1.154748  0.569860  0.230531  0.357721  0.590291  0.388026  0.156400   \n",
       "196  0.575701  0.569860 -1.528648 -0.125156 -1.658216 -1.590578 -1.988249   \n",
       "197 -0.289524  0.569860  0.670325 -0.125156  0.408960  0.408344  0.639400   \n",
       "198 -0.722136 -0.244001  0.670325 -1.090909  0.064430  0.291128  0.583715   \n",
       "199 -1.154748 -0.244001  0.670325 -1.573785 -4.922179 -0.626282  0.473558   \n",
       "\n",
       "          ISI      temp        RH      wind      rain      area  \n",
       "0   -0.860946 -1.842640  0.411724  1.498614 -0.073268 -0.202020  \n",
       "1   -0.509688 -0.153278 -0.692456 -1.741756 -0.073268 -0.202020  \n",
       "2   -0.509688 -0.739383 -0.692456 -1.518282 -0.073268 -0.202020  \n",
       "3   -0.004756 -1.825402  3.233519 -0.009834  0.603155 -0.202020  \n",
       "4    0.126966 -1.291012  3.356206 -1.238940 -0.073268 -0.202020  \n",
       "..        ...       ...       ...       ...       ...       ...  \n",
       "195  1.334413  0.794833 -0.508426  0.772325 -0.073268 -0.044458  \n",
       "196 -1.387832 -2.256361  0.595754  0.995798 -0.073268 -0.030149  \n",
       "197  0.039151  0.450065 -1.796637 -1.741756 -0.073268 -0.028105  \n",
       "198 -0.443828 -0.860052  0.902471  1.275141 -0.073268 -0.025274  \n",
       "199 -1.804950  0.639688 -0.385739 -0.233308 -0.073268 -0.024016  \n",
       "\n",
       "[200 rows x 13 columns]"
      ]
     },
     "execution_count": 7,
     "metadata": {},
     "output_type": "execute_result"
    }
   ],
   "source": [
    "# Scaling numerical features\n",
    "scale_columns = ['X', 'Y', 'month','day','FFMC', 'DMC', 'DC', 'ISI', 'temp', 'RH', 'wind', 'rain','area']\n",
    "\n",
    "# Initializing the StandardScaler\n",
    "scaler = StandardScaler()\n",
    "\n",
    "# Fitting and transforming the data\n",
    "df[scale_columns] = scaler.fit_transform(df[scale_columns])\n",
    "\n",
    "# Displaying the first few rows of the DataFrame after scaling\n",
    "scaled_head = df.head(200)\n",
    "scaled_head"
   ]
  },
  {
   "cell_type": "code",
   "execution_count": 8,
   "id": "89e08d94-2f41-4f1d-b9df-037405341cc9",
   "metadata": {},
   "outputs": [],
   "source": [
    "scaled_head.to_csv('processed.csv')"
   ]
  },
  {
   "cell_type": "code",
   "execution_count": 9,
   "id": "768ae244-2908-4f76-b8c9-81b518a09515",
   "metadata": {},
   "outputs": [],
   "source": [
    "X = scaled_head.drop('area', axis=1)  # Replace 'target_column' with the name of your target column.\n",
    "y = scaled_head['area']\n",
    "X_train, X_test, y_train, y_test = train_test_split(X, y, test_size=0.3, random_state=52)"
   ]
  },
  {
   "cell_type": "code",
   "execution_count": 10,
   "id": "03709547-6d95-4398-8f43-6c946d5ec5e3",
   "metadata": {},
   "outputs": [
    {
     "name": "stdout",
     "output_type": "stream",
     "text": [
      "(140, 12)\n",
      "WARNING:tensorflow:From C:\\Users\\qbada\\AppData\\Local\\Programs\\Python\\Python311\\Lib\\site-packages\\keras\\src\\backend.py:873: The name tf.get_default_graph is deprecated. Please use tf.compat.v1.get_default_graph instead.\n",
      "\n",
      "WARNING:tensorflow:From C:\\Users\\qbada\\AppData\\Local\\Programs\\Python\\Python311\\Lib\\site-packages\\keras\\src\\optimizers\\__init__.py:309: The name tf.train.Optimizer is deprecated. Please use tf.compat.v1.train.Optimizer instead.\n",
      "\n",
      "Model: \"sequential\"\n",
      "_________________________________________________________________\n",
      " Layer (type)                Output Shape              Param #   \n",
      "=================================================================\n",
      " dense (Dense)               (None, 12)                156       \n",
      "                                                                 \n",
      " dense_1 (Dense)             (None, 6)                 78        \n",
      "                                                                 \n",
      " dense_2 (Dense)             (None, 6)                 42        \n",
      "                                                                 \n",
      " dense_3 (Dense)             (None, 1)                 7         \n",
      "                                                                 \n",
      "=================================================================\n",
      "Total params: 283 (1.11 KB)\n",
      "Trainable params: 283 (1.11 KB)\n",
      "Non-trainable params: 0 (0.00 Byte)\n",
      "_________________________________________________________________\n"
     ]
    }
   ],
   "source": [
    "# Check the shape of X_train to see how many features there are\n",
    "print(X_train.shape)  # This should output something like (num_samples, num_features)\n",
    "\n",
    "# If there are indeed 12 features, set n_features to 12\n",
    "n_features = X_train.shape[1]\n",
    "\n",
    "# Then rebuild your model with the correct number of input features\n",
    "model = Sequential([\n",
    "    Dense(n_features, input_dim=n_features, activation='relu'),\n",
    "    Dense(n_features // 2, activation='relu'),\n",
    "    Dense(n_features // 2, activation='relu'),\n",
    "    Dense(1)\n",
    "])\n",
    "\n",
    "# Compile and summarize the model again\n",
    "model.compile(optimizer='adam', loss='mean_squared_error')\n",
    "model.summary()"
   ]
  },
  {
   "cell_type": "code",
   "execution_count": 16,
   "id": "6b7dbbca-0fa8-4fd4-a6d5-46f1937a0372",
   "metadata": {},
   "outputs": [
    {
     "data": {
      "text/plain": [
       "<Experiment: artifact_location='mlflow-artifacts:/114604900249674853', creation_time=1702927187511, experiment_id='114604900249674853', last_update_time=1702927187511, lifecycle_stage='active', name='My MLflow', tags={}>"
      ]
     },
     "execution_count": 16,
     "metadata": {},
     "output_type": "execute_result"
    }
   ],
   "source": [
    "mlflow.set_experiment(\"My MLflow\")"
   ]
  },
  {
   "cell_type": "code",
   "execution_count": 22,
   "id": "6cfa686f-05bd-4b77-aef7-109683ff0f2d",
   "metadata": {},
   "outputs": [
    {
     "name": "stdout",
     "output_type": "stream",
     "text": [
      "Epoch 1/100\n",
      "10/10 [==============================] - 2s 65ms/step - loss: 0.0014 - val_loss: 0.0046\n",
      "Epoch 2/100\n",
      "10/10 [==============================] - 0s 23ms/step - loss: 0.0014 - val_loss: 0.0046\n",
      "Epoch 3/100\n",
      "10/10 [==============================] - 0s 22ms/step - loss: 0.0014 - val_loss: 0.0046\n",
      "Epoch 4/100\n",
      "10/10 [==============================] - 0s 19ms/step - loss: 0.0014 - val_loss: 0.0046\n",
      "Epoch 5/100\n",
      "10/10 [==============================] - 0s 25ms/step - loss: 0.0014 - val_loss: 0.0046\n",
      "Epoch 6/100\n",
      "10/10 [==============================] - 0s 18ms/step - loss: 0.0014 - val_loss: 0.0046\n",
      "Epoch 7/100\n",
      "10/10 [==============================] - 0s 14ms/step - loss: 0.0014 - val_loss: 0.0047\n",
      "Epoch 8/100\n",
      "10/10 [==============================] - 0s 22ms/step - loss: 0.0014 - val_loss: 0.0047\n",
      "Epoch 9/100\n",
      "10/10 [==============================] - 0s 17ms/step - loss: 0.0014 - val_loss: 0.0047\n",
      "Epoch 10/100\n",
      "10/10 [==============================] - 0s 21ms/step - loss: 0.0014 - val_loss: 0.0047\n",
      "Epoch 11/100\n",
      "10/10 [==============================] - 0s 20ms/step - loss: 0.0014 - val_loss: 0.0047\n",
      "Epoch 12/100\n",
      "10/10 [==============================] - 0s 18ms/step - loss: 0.0014 - val_loss: 0.0047\n",
      "Epoch 13/100\n",
      "10/10 [==============================] - 0s 20ms/step - loss: 0.0014 - val_loss: 0.0047\n",
      "Epoch 14/100\n",
      "10/10 [==============================] - 0s 22ms/step - loss: 0.0014 - val_loss: 0.0047\n",
      "Epoch 15/100\n",
      "10/10 [==============================] - 0s 20ms/step - loss: 0.0014 - val_loss: 0.0047\n",
      "Epoch 16/100\n",
      "10/10 [==============================] - 0s 20ms/step - loss: 0.0014 - val_loss: 0.0048\n",
      "Epoch 17/100\n",
      "10/10 [==============================] - 0s 21ms/step - loss: 0.0014 - val_loss: 0.0047\n",
      "Epoch 18/100\n",
      "10/10 [==============================] - 0s 30ms/step - loss: 0.0014 - val_loss: 0.0047\n",
      "Epoch 19/100\n",
      "10/10 [==============================] - 0s 24ms/step - loss: 0.0014 - val_loss: 0.0048\n",
      "Epoch 20/100\n",
      "10/10 [==============================] - 0s 22ms/step - loss: 0.0013 - val_loss: 0.0048\n",
      "Epoch 21/100\n",
      "10/10 [==============================] - 0s 28ms/step - loss: 0.0013 - val_loss: 0.0048\n",
      "Epoch 22/100\n",
      "10/10 [==============================] - 0s 31ms/step - loss: 0.0013 - val_loss: 0.0048\n",
      "Epoch 23/100\n",
      "10/10 [==============================] - 0s 25ms/step - loss: 0.0013 - val_loss: 0.0048\n",
      "Epoch 24/100\n",
      "10/10 [==============================] - 0s 24ms/step - loss: 0.0013 - val_loss: 0.0048\n",
      "Epoch 25/100\n",
      "10/10 [==============================] - 0s 23ms/step - loss: 0.0013 - val_loss: 0.0048\n",
      "Epoch 26/100\n",
      "10/10 [==============================] - 0s 24ms/step - loss: 0.0013 - val_loss: 0.0048\n",
      "Epoch 27/100\n",
      "10/10 [==============================] - 0s 22ms/step - loss: 0.0013 - val_loss: 0.0048\n",
      "Epoch 28/100\n",
      "10/10 [==============================] - 0s 25ms/step - loss: 0.0013 - val_loss: 0.0049\n",
      "Epoch 29/100\n",
      "10/10 [==============================] - 0s 24ms/step - loss: 0.0013 - val_loss: 0.0048\n",
      "Epoch 30/100\n",
      "10/10 [==============================] - 0s 19ms/step - loss: 0.0013 - val_loss: 0.0048\n",
      "Epoch 31/100\n",
      "10/10 [==============================] - 0s 28ms/step - loss: 0.0013 - val_loss: 0.0049\n",
      "Epoch 32/100\n",
      "10/10 [==============================] - 0s 31ms/step - loss: 0.0013 - val_loss: 0.0049\n",
      "Epoch 33/100\n",
      "10/10 [==============================] - 0s 30ms/step - loss: 0.0013 - val_loss: 0.0050\n",
      "Epoch 34/100\n",
      "10/10 [==============================] - 0s 31ms/step - loss: 0.0013 - val_loss: 0.0049\n",
      "Epoch 35/100\n",
      "10/10 [==============================] - 0s 24ms/step - loss: 0.0013 - val_loss: 0.0050\n",
      "Epoch 36/100\n",
      "10/10 [==============================] - 0s 26ms/step - loss: 0.0013 - val_loss: 0.0049\n",
      "Epoch 37/100\n",
      "10/10 [==============================] - 0s 32ms/step - loss: 0.0013 - val_loss: 0.0050\n",
      "Epoch 38/100\n",
      "10/10 [==============================] - 0s 22ms/step - loss: 0.0013 - val_loss: 0.0050\n",
      "Epoch 39/100\n",
      "10/10 [==============================] - 0s 28ms/step - loss: 0.0013 - val_loss: 0.0049\n",
      "Epoch 40/100\n",
      "10/10 [==============================] - 0s 19ms/step - loss: 0.0013 - val_loss: 0.0050\n",
      "Epoch 41/100\n",
      "10/10 [==============================] - 0s 23ms/step - loss: 0.0013 - val_loss: 0.0050\n",
      "Epoch 42/100\n",
      "10/10 [==============================] - 0s 18ms/step - loss: 0.0013 - val_loss: 0.0050\n",
      "Epoch 43/100\n",
      "10/10 [==============================] - 0s 19ms/step - loss: 0.0013 - val_loss: 0.0050\n",
      "Epoch 44/100\n",
      "10/10 [==============================] - 0s 18ms/step - loss: 0.0013 - val_loss: 0.0050\n",
      "Epoch 45/100\n",
      "10/10 [==============================] - 0s 24ms/step - loss: 0.0013 - val_loss: 0.0050\n",
      "Epoch 46/100\n",
      "10/10 [==============================] - 0s 25ms/step - loss: 0.0013 - val_loss: 0.0051\n",
      "Epoch 47/100\n",
      "10/10 [==============================] - 0s 21ms/step - loss: 0.0013 - val_loss: 0.0051\n",
      "Epoch 48/100\n",
      "10/10 [==============================] - 0s 16ms/step - loss: 0.0013 - val_loss: 0.0051\n",
      "Epoch 49/100\n",
      "10/10 [==============================] - 0s 22ms/step - loss: 0.0013 - val_loss: 0.0051\n",
      "Epoch 50/100\n",
      "10/10 [==============================] - 0s 24ms/step - loss: 0.0013 - val_loss: 0.0052\n",
      "Epoch 51/100\n",
      "10/10 [==============================] - 0s 22ms/step - loss: 0.0013 - val_loss: 0.0051\n",
      "Epoch 52/100\n",
      "10/10 [==============================] - 0s 22ms/step - loss: 0.0013 - val_loss: 0.0052\n",
      "Epoch 53/100\n",
      "10/10 [==============================] - 0s 22ms/step - loss: 0.0013 - val_loss: 0.0051\n",
      "Epoch 54/100\n",
      "10/10 [==============================] - 0s 23ms/step - loss: 0.0013 - val_loss: 0.0051\n",
      "Epoch 55/100\n",
      "10/10 [==============================] - 0s 21ms/step - loss: 0.0013 - val_loss: 0.0052\n",
      "Epoch 56/100\n",
      "10/10 [==============================] - 0s 22ms/step - loss: 0.0013 - val_loss: 0.0052\n",
      "Epoch 57/100\n",
      "10/10 [==============================] - 0s 23ms/step - loss: 0.0013 - val_loss: 0.0053\n",
      "Epoch 58/100\n",
      "10/10 [==============================] - 0s 12ms/step - loss: 0.0013 - val_loss: 0.0053\n",
      "Epoch 59/100\n",
      "10/10 [==============================] - 0s 23ms/step - loss: 0.0013 - val_loss: 0.0053\n",
      "Epoch 60/100\n",
      "10/10 [==============================] - 0s 22ms/step - loss: 0.0012 - val_loss: 0.0053\n",
      "Epoch 61/100\n",
      "10/10 [==============================] - 0s 30ms/step - loss: 0.0012 - val_loss: 0.0053\n",
      "Epoch 62/100\n",
      "10/10 [==============================] - 0s 23ms/step - loss: 0.0012 - val_loss: 0.0053\n",
      "Epoch 63/100\n",
      "10/10 [==============================] - 0s 22ms/step - loss: 0.0012 - val_loss: 0.0053\n",
      "Epoch 64/100\n",
      "10/10 [==============================] - 0s 22ms/step - loss: 0.0012 - val_loss: 0.0053\n",
      "Epoch 65/100\n",
      "10/10 [==============================] - 0s 21ms/step - loss: 0.0012 - val_loss: 0.0052\n",
      "Epoch 66/100\n",
      "10/10 [==============================] - 0s 22ms/step - loss: 0.0012 - val_loss: 0.0052\n",
      "Epoch 67/100\n",
      "10/10 [==============================] - 0s 19ms/step - loss: 0.0012 - val_loss: 0.0052\n",
      "Epoch 68/100\n",
      "10/10 [==============================] - 0s 27ms/step - loss: 0.0012 - val_loss: 0.0052\n",
      "Epoch 69/100\n",
      "10/10 [==============================] - 0s 21ms/step - loss: 0.0012 - val_loss: 0.0052\n",
      "Epoch 70/100\n",
      "10/10 [==============================] - 0s 22ms/step - loss: 0.0012 - val_loss: 0.0051\n",
      "Epoch 71/100\n",
      "10/10 [==============================] - 0s 19ms/step - loss: 0.0012 - val_loss: 0.0051\n",
      "Epoch 72/100\n",
      "10/10 [==============================] - 0s 15ms/step - loss: 0.0012 - val_loss: 0.0051\n",
      "Epoch 73/100\n",
      "10/10 [==============================] - 0s 23ms/step - loss: 0.0012 - val_loss: 0.0051\n",
      "Epoch 74/100\n",
      "10/10 [==============================] - 0s 21ms/step - loss: 0.0012 - val_loss: 0.0052\n",
      "Epoch 75/100\n",
      "10/10 [==============================] - 0s 31ms/step - loss: 0.0012 - val_loss: 0.0051\n",
      "Epoch 76/100\n",
      "10/10 [==============================] - 0s 26ms/step - loss: 0.0012 - val_loss: 0.0051\n",
      "Epoch 77/100\n",
      "10/10 [==============================] - 0s 35ms/step - loss: 0.0012 - val_loss: 0.0052\n",
      "Epoch 78/100\n",
      "10/10 [==============================] - 0s 36ms/step - loss: 0.0012 - val_loss: 0.0053\n",
      "Epoch 79/100\n",
      "10/10 [==============================] - 0s 25ms/step - loss: 0.0012 - val_loss: 0.0052\n",
      "Epoch 80/100\n",
      "10/10 [==============================] - 0s 23ms/step - loss: 0.0012 - val_loss: 0.0053\n",
      "Epoch 81/100\n",
      "10/10 [==============================] - 0s 37ms/step - loss: 0.0012 - val_loss: 0.0052\n",
      "Epoch 82/100\n",
      "10/10 [==============================] - 0s 19ms/step - loss: 0.0012 - val_loss: 0.0053\n",
      "Epoch 83/100\n",
      "10/10 [==============================] - 0s 20ms/step - loss: 0.0012 - val_loss: 0.0052\n",
      "Epoch 84/100\n",
      "10/10 [==============================] - 0s 20ms/step - loss: 0.0012 - val_loss: 0.0053\n",
      "Epoch 85/100\n",
      "10/10 [==============================] - 0s 20ms/step - loss: 0.0012 - val_loss: 0.0053\n",
      "Epoch 86/100\n",
      "10/10 [==============================] - 0s 23ms/step - loss: 0.0012 - val_loss: 0.0053\n",
      "Epoch 87/100\n",
      "10/10 [==============================] - 0s 16ms/step - loss: 0.0012 - val_loss: 0.0052\n",
      "Epoch 88/100\n",
      "10/10 [==============================] - 0s 25ms/step - loss: 0.0012 - val_loss: 0.0052\n",
      "Epoch 89/100\n",
      "10/10 [==============================] - 0s 24ms/step - loss: 0.0012 - val_loss: 0.0052\n",
      "Epoch 90/100\n",
      "10/10 [==============================] - 0s 22ms/step - loss: 0.0012 - val_loss: 0.0053\n",
      "Epoch 91/100\n",
      "10/10 [==============================] - 0s 25ms/step - loss: 0.0012 - val_loss: 0.0053\n",
      "Epoch 92/100\n",
      "10/10 [==============================] - 0s 27ms/step - loss: 0.0012 - val_loss: 0.0053\n",
      "Epoch 93/100\n",
      "10/10 [==============================] - 0s 25ms/step - loss: 0.0012 - val_loss: 0.0053\n",
      "Epoch 94/100\n",
      "10/10 [==============================] - 0s 25ms/step - loss: 0.0012 - val_loss: 0.0052\n",
      "Epoch 95/100\n",
      "10/10 [==============================] - 0s 23ms/step - loss: 0.0012 - val_loss: 0.0052\n",
      "Epoch 96/100\n",
      "10/10 [==============================] - 0s 26ms/step - loss: 0.0012 - val_loss: 0.0052\n",
      "Epoch 97/100\n",
      "10/10 [==============================] - 0s 19ms/step - loss: 0.0012 - val_loss: 0.0052\n",
      "Epoch 98/100\n",
      "10/10 [==============================] - 0s 13ms/step - loss: 0.0012 - val_loss: 0.0052\n",
      "Epoch 99/100\n",
      "10/10 [==============================] - 0s 18ms/step - loss: 0.0012 - val_loss: 0.0052\n",
      "Epoch 100/100\n",
      "10/10 [==============================] - 0s 19ms/step - loss: 0.0012 - val_loss: 0.0052\n"
     ]
    }
   ],
   "source": [
    "history = model.fit(X_train, y_train, validation_split=0.1, epochs=100, batch_size=13)"
   ]
  },
  {
   "cell_type": "code",
   "execution_count": 23,
   "id": "220cbaa8-6e8d-42ce-ac5b-ed28cf15c0d2",
   "metadata": {},
   "outputs": [
    {
     "name": "stdout",
     "output_type": "stream",
     "text": [
      "2/2 [==============================] - 0s 12ms/step - loss: 0.0029\n"
     ]
    }
   ],
   "source": [
    "mse_test = model.evaluate(X_test, y_test)"
   ]
  },
  {
   "cell_type": "code",
   "execution_count": 24,
   "id": "e13ca5ce-4a32-4618-a5c8-91a0e0b839ab",
   "metadata": {},
   "outputs": [
    {
     "data": {
      "image/png": "[encoded data removed]",
      "text/plain": [
       "<Figure size 640x480 with 1 Axes>"
      ]
     },
     "metadata": {},
     "output_type": "display_data"
    }
   ],
   "source": [
    "import matplotlib.pyplot as plt\n",
    "\n",
    "plt.plot(history.history['loss'], label='Train Loss')\n",
    "plt.plot(history.history['val_loss'], label='Validation Loss')\n",
    "plt.legend()\n",
    "plt.show()"
   ]
  },
  {
   "cell_type": "code",
   "execution_count": 25,
   "id": "8ed58a52-ff22-4c8c-8aeb-7a87e1994861",
   "metadata": {},
   "outputs": [
    {
     "name": "stdout",
     "output_type": "stream",
     "text": [
      "2/2 [==============================] - 0s 6ms/step\n",
      "Mean Squared Error (MSE): 0.0028741983572279643\n",
      "R-squared (R²): -1.0891825604509218\n"
     ]
    }
   ],
   "source": [
    "# Make predictions on the test set\n",
    "y_pred = model.predict(X_test)\n",
    "\n",
    "# Flatten y_pred to have the same shape as y_test\n",
    "y_pred = y_pred.flatten()\n",
    "\n",
    "# Calculate MSE\n",
    "mse = mean_squared_error(y_test, y_pred)\n",
    "print(f\"Mean Squared Error (MSE): {mse}\")\n",
    "\n",
    "# Calculate R-squared\n",
    "r2 = r2_score(y_test, y_pred)\n",
    "print(f\"R-squared (R²): {r2}\")"
   ]
  },
  {
   "cell_type": "code",
   "execution_count": 26,
   "id": "2aaaef3f-9745-402d-9e2c-dd5d2ed08faa",
   "metadata": {},
   "outputs": [
    {
     "name": "stdout",
     "output_type": "stream",
     "text": [
      "5/5 [==============================] - 0s 5ms/step\n",
      "INFO:tensorflow:Assets written to: C:\\Users\\qbada\\AppData\\Local\\Temp\\tmp9mtt5ixw\\model\\data\\model\\assets\n"
     ]
    },
    {
     "name": "stderr",
     "output_type": "stream",
     "text": [
      "INFO:tensorflow:Assets written to: C:\\Users\\qbada\\AppData\\Local\\Temp\\tmp9mtt5ixw\\model\\data\\model\\assets\n",
      "Registered model 'tracking_forest_fire_prediction_model' already exists. Creating a new version of this model...\n",
      "2023/12/19 02:33:27 INFO mlflow.store.model_registry.abstract_store: Waiting up to 300 seconds for model version to finish creation. Model name: tracking_forest_fire_prediction_model, version 4\n",
      "Created version '4' of model 'tracking_forest_fire_prediction_model'.\n"
     ]
    }
   ],
   "source": [
    "with mlflow.start_run():\n",
    "    mlflow.log_param(\"n_features\", X.shape[1])\n",
    "    mlflow.log_param(\"epochs\", 100)\n",
    "    mlflow.log_param(\"batch_size\", 13)\n",
    "\n",
    "    # Log the loss metric\n",
    "    mlflow.log_metric(\"mse\", mse)\n",
    "    mlflow.log_metric(\"r2\", r2)\n",
    "\n",
    "    # Set a tag that we can use to remind ourselves what this run was for\n",
    "    mlflow.set_tag(\"Training Info\", \"My Model\")\n",
    "\n",
    "    # Convert X_train to a NumPy array if it's not already\n",
    "    X_train = np.array(X_train)\n",
    "    \n",
    "    # Infer the model signature\n",
    "    signature = infer_signature(X_train, model.predict(X_train))\n",
    "    \n",
    "    # Log the model\n",
    "    model_info = mlflow.keras.log_model(\n",
    "        model,\n",
    "        artifact_path=\"forest_fire_prediction_model\",\n",
    "        signature=signature,\n",
    "        input_example=X_train,\n",
    "        registered_model_name=\"tracking_forest_fire_prediction_model\",\n",
    "    )"
   ]
  },
  {
   "cell_type": "code",
   "execution_count": 27,
   "id": "a1ee6ff1-0165-4b3e-b0fe-aae28573cf5f",
   "metadata": {},
   "outputs": [
    {
     "data": {
      "application/vnd.jupyter.widget-view+json": {
       "model_id": "d8709ec67dc3464684805313e72cefb9",
       "version_major": 2,
       "version_minor": 0
      },
      "text/plain": [
       "Downloading artifacts:   0%|          | 0/13 [00:00<?, ?it/s]"
      ]
     },
     "metadata": {},
     "output_type": "display_data"
    },
    {
     "name": "stderr",
     "output_type": "stream",
     "text": [
      "2023/12/19 02:33:35 INFO mlflow.store.artifact.artifact_repo: The progress bar can be disabled by setting the environment variable MLFLOW_ENABLE_ARTIFACTS_PROGRESS_BAR to false\n"
     ]
    }
   ],
   "source": [
    "loaded_model = mlflow.pyfunc.load_model(model_info.model_uri)"
   ]
  },
  {
   "cell_type": "code",
   "execution_count": 28,
   "id": "56bd74d6-bd22-454a-badd-26652844fe59",
   "metadata": {},
   "outputs": [
    {
     "name": "stdout",
     "output_type": "stream",
     "text": [
      "2/2 [==============================] - 0s 18ms/step\n"
     ]
    },
    {
     "data": {
      "text/html": [
       "<div>\n",
       "<style scoped>\n",
       "    .dataframe tbody tr th:only-of-type {\n",
       "        vertical-align: middle;\n",
       "    }\n",
       "\n",
       "    .dataframe tbody tr th {\n",
       "        vertical-align: top;\n",
       "    }\n",
       "\n",
       "    .dataframe thead th {\n",
       "        text-align: right;\n",
       "    }\n",
       "</style>\n",
       "<table border=\"1\" class=\"dataframe\">\n",
       "  <thead>\n",
       "    <tr style=\"text-align: right;\">\n",
       "      <th></th>\n",
       "      <th>X</th>\n",
       "      <th>Y</th>\n",
       "      <th>month</th>\n",
       "      <th>day</th>\n",
       "      <th>FFMC</th>\n",
       "      <th>DMC</th>\n",
       "      <th>DC</th>\n",
       "      <th>ISI</th>\n",
       "      <th>temp</th>\n",
       "      <th>RH</th>\n",
       "      <th>wind</th>\n",
       "      <th>rain</th>\n",
       "      <th>area</th>\n",
       "      <th>actual_class</th>\n",
       "      <th>predicted_class</th>\n",
       "    </tr>\n",
       "  </thead>\n",
       "  <tbody>\n",
       "    <tr>\n",
       "      <th>119</th>\n",
       "      <td>-0.722136</td>\n",
       "      <td>-0.244001</td>\n",
       "      <td>0.230531</td>\n",
       "      <td>-0.125156</td>\n",
       "      <td>0.427093</td>\n",
       "      <td>-0.555952</td>\n",
       "      <td>-0.328214</td>\n",
       "      <td>-0.290152</td>\n",
       "      <td>0.122536</td>\n",
       "      <td>-0.508426</td>\n",
       "      <td>-0.512650</td>\n",
       "      <td>-0.073268</td>\n",
       "      <td>NaN</td>\n",
       "      <td>-0.20202</td>\n",
       "      <td>-0.196960</td>\n",
       "    </tr>\n",
       "    <tr>\n",
       "      <th>62</th>\n",
       "      <td>-1.154748</td>\n",
       "      <td>-1.871724</td>\n",
       "      <td>0.230531</td>\n",
       "      <td>-0.125156</td>\n",
       "      <td>0.427093</td>\n",
       "      <td>-0.555952</td>\n",
       "      <td>-0.328214</td>\n",
       "      <td>-0.290152</td>\n",
       "      <td>-0.015371</td>\n",
       "      <td>-0.569770</td>\n",
       "      <td>0.492982</td>\n",
       "      <td>-0.073268</td>\n",
       "      <td>NaN</td>\n",
       "      <td>-0.20202</td>\n",
       "      <td>-0.180702</td>\n",
       "    </tr>\n",
       "    <tr>\n",
       "      <th>132</th>\n",
       "      <td>-0.289524</td>\n",
       "      <td>1.383722</td>\n",
       "      <td>-1.968443</td>\n",
       "      <td>1.323474</td>\n",
       "      <td>-0.243833</td>\n",
       "      <td>-0.931043</td>\n",
       "      <td>-1.798600</td>\n",
       "      <td>0.126966</td>\n",
       "      <td>-1.428919</td>\n",
       "      <td>0.105008</td>\n",
       "      <td>0.492982</td>\n",
       "      <td>-0.073268</td>\n",
       "      <td>NaN</td>\n",
       "      <td>-0.20202</td>\n",
       "      <td>-0.184241</td>\n",
       "    </tr>\n",
       "    <tr>\n",
       "      <th>114</th>\n",
       "      <td>-0.722136</td>\n",
       "      <td>-0.244001</td>\n",
       "      <td>-1.968443</td>\n",
       "      <td>-1.090909</td>\n",
       "      <td>-0.461430</td>\n",
       "      <td>-1.331140</td>\n",
       "      <td>-1.938214</td>\n",
       "      <td>-1.146342</td>\n",
       "      <td>-0.532523</td>\n",
       "      <td>-1.060516</td>\n",
       "      <td>2.001430</td>\n",
       "      <td>-0.073268</td>\n",
       "      <td>NaN</td>\n",
       "      <td>-0.20202</td>\n",
       "      <td>-0.184241</td>\n",
       "    </tr>\n",
       "  </tbody>\n",
       "</table>\n",
       "</div>"
      ],
      "text/plain": [
       "            X         Y     month       day      FFMC       DMC        DC  \\\n",
       "119 -0.722136 -0.244001  0.230531 -0.125156  0.427093 -0.555952 -0.328214   \n",
       "62  -1.154748 -1.871724  0.230531 -0.125156  0.427093 -0.555952 -0.328214   \n",
       "132 -0.289524  1.383722 -1.968443  1.323474 -0.243833 -0.931043 -1.798600   \n",
       "114 -0.722136 -0.244001 -1.968443 -1.090909 -0.461430 -1.331140 -1.938214   \n",
       "\n",
       "          ISI      temp        RH      wind      rain  area  actual_class  \\\n",
       "119 -0.290152  0.122536 -0.508426 -0.512650 -0.073268   NaN      -0.20202   \n",
       "62  -0.290152 -0.015371 -0.569770  0.492982 -0.073268   NaN      -0.20202   \n",
       "132  0.126966 -1.428919  0.105008  0.492982 -0.073268   NaN      -0.20202   \n",
       "114 -1.146342 -0.532523 -1.060516  2.001430 -0.073268   NaN      -0.20202   \n",
       "\n",
       "     predicted_class  \n",
       "119        -0.196960  \n",
       "62         -0.180702  \n",
       "132        -0.184241  \n",
       "114        -0.184241  "
      ]
     },
     "execution_count": 28,
     "metadata": {},
     "output_type": "execute_result"
    }
   ],
   "source": [
    "predictions = loaded_model.predict(X_test)\n",
    "\n",
    "my_feature_names = scaled_head.columns\n",
    "\n",
    "# Convert X_test validation feature data to a Pandas DataFrame\n",
    "result = pd.DataFrame(X_test, columns=my_feature_names)\n",
    "\n",
    "\n",
    "# Flatten y_pred to have the same shape as y_test\n",
    "y_pred = y_pred.flatten()\n",
    "\n",
    "# Add the actual classes to the DataFrame\n",
    "result[\"actual_class\"] = y_test\n",
    "\n",
    "# Add the model predictions to the DataFrame\n",
    "result[\"predicted_class\"] = predictions\n",
    "\n",
    "result[:4]"
   ]
  }
 ],
 "metadata": {
  "kernelspec": {
   "display_name": "Python 3 (ipykernel)",
   "language": "python",
   "name": "python3"
  },
  "language_info": {
   "codemirror_mode": {
    "name": "ipython",
    "version": 3
   },
   "file_extension": ".py",
   "mimetype": "text/x-python",
   "name": "python",
   "nbconvert_exporter": "python",
   "pygments_lexer": "ipython3",
   "version": "3.11.5"
  }
 },
 "nbformat": 4,
 "nbformat_minor": 5
}
